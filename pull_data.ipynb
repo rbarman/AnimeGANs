{
  "nbformat": 4,
  "nbformat_minor": 0,
  "metadata": {
    "colab": {
      "name": "pull data",
      "provenance": [],
      "collapsed_sections": [],
      "authorship_tag": "ABX9TyOd51Cdx5MTZOzmkD6KYJNd",
      "include_colab_link": true
    },
    "kernelspec": {
      "name": "python3",
      "display_name": "Python 3"
    }
  },
  "cells": [
    {
      "cell_type": "markdown",
      "metadata": {
        "id": "view-in-github",
        "colab_type": "text"
      },
      "source": [
        "<a href=\"https://colab.research.google.com/github/rbarman/AnimeGANs/blob/master/pull_data.ipynb\" target=\"_parent\"><img src=\"https://colab.research.google.com/assets/colab-badge.svg\" alt=\"Open In Colab\"/></a>"
      ]
    },
    {
      "cell_type": "markdown",
      "metadata": {
        "id": "biVT_6oD0nkX",
        "colab_type": "text"
      },
      "source": [
        "Later I should create a .py file...\n"
      ]
    },
    {
      "cell_type": "code",
      "metadata": {
        "id": "4A6MHi7p0kWm",
        "colab_type": "code",
        "colab": {}
      },
      "source": [
        "from IPython.display import Image as display_image\n",
        "from google.colab import drive\n",
        "import os\n",
        "import random\n",
        "import PIL"
      ],
      "execution_count": 13,
      "outputs": []
    },
    {
      "cell_type": "markdown",
      "metadata": {
        "id": "i-el_kAu03yj",
        "colab_type": "text"
      },
      "source": [
        "**Get images**\n",
        "- I saved results from https://github.com/bchao1/Anime-Face-Dataset to google drive\n",
        "- Could get more samples using the haar cascade from https://github.com/nagadomi/animeface-2009"
      ]
    },
    {
      "cell_type": "code",
      "metadata": {
        "id": "fKRWOlcZ02pQ",
        "colab_type": "code",
        "colab": {
          "base_uri": "https://localhost:8080/",
          "height": 112
        },
        "outputId": "f028bbb2-259c-47ad-abcf-a79d69c9ae17"
      },
      "source": [
        "%%capture\n",
        "drive.mount('/content/drive')\n",
        "!tar -xvzf  /content/drive/My\\ Drive/Anime-Faces.tgz"
      ],
      "execution_count": 3,
      "outputs": [
        {
          "output_type": "stream",
          "text": [
            "Go to this URL in a browser: https://accounts.google.com/o/oauth2/auth?client_id=947318989803-6bn6qk8qdgf4n4g3pfee6491hc0brc4i.apps.googleusercontent.com&redirect_uri=urn%3aietf%3awg%3aoauth%3a2.0%3aoob&response_type=code&scope=email%20https%3a%2f%2fwww.googleapis.com%2fauth%2fdocs.test%20https%3a%2f%2fwww.googleapis.com%2fauth%2fdrive%20https%3a%2f%2fwww.googleapis.com%2fauth%2fdrive.photos.readonly%20https%3a%2f%2fwww.googleapis.com%2fauth%2fpeopleapi.readonly\n",
            "\n",
            "Enter your authorization code:\n",
            "··········\n"
          ],
          "name": "stdout"
        }
      ]
    },
    {
      "cell_type": "code",
      "metadata": {
        "id": "HR8DDawx0_5h",
        "colab_type": "code",
        "colab": {}
      },
      "source": [
        "def view_rand_img(img_dir = '/content/cropped/'):\n",
        "    imgs = os.listdir(img_dir)\n",
        "    img_path = img_dir  + random.choice(imgs)\n",
        "    print(img_path)\n",
        "    return display_image(img_path)"
      ],
      "execution_count": 5,
      "outputs": []
    },
    {
      "cell_type": "code",
      "metadata": {
        "id": "ZznZwOye1TYf",
        "colab_type": "code",
        "colab": {
          "base_uri": "https://localhost:8080/",
          "height": 110
        },
        "outputId": "479f59cf-9eb4-445b-ff77-c45688a25ad9"
      },
      "source": [
        "view_rand_img()"
      ],
      "execution_count": 10,
      "outputs": [
        {
          "output_type": "stream",
          "text": [
            "/content/cropped/27774_2009.jpg\n"
          ],
          "name": "stdout"
        },
        {
          "output_type": "execute_result",
          "data": {
            "image/jpeg": "[encoded data removed]",
            "text/plain": [
              "<IPython.core.display.Image object>"
            ]
          },
          "metadata": {
            "tags": []
          },
          "execution_count": 10
        }
      ]
    },
    {
      "cell_type": "code",
      "metadata": {
        "id": "16nA37rX1WUl",
        "colab_type": "code",
        "colab": {
          "base_uri": "https://localhost:8080/",
          "height": 41
        },
        "outputId": "16bf396b-0aee-49aa-d885-a6d5cde03e41"
      },
      "source": [
        "# There are some invalid images...\n",
        "display_image('/content/cropped/44478_2013.jpg')"
      ],
      "execution_count": 11,
      "outputs": [
        {
          "output_type": "execute_result",
          "data": {
            "image/jpeg": "\n",
            "text/plain": [
              "<IPython.core.display.Image object>"
            ]
          },
          "metadata": {
            "tags": []
          },
          "execution_count": 11
        }
      ]
    },
    {
      "cell_type": "code",
      "metadata": {
        "id": "va6TYYDl1eot",
        "colab_type": "code",
        "colab": {}
      },
      "source": [
        "# Remove the invalid images\n",
        "for img_name in os.listdir('/content/cropped/'):\n",
        "    img_path = f'/content/cropped/{img_name}'\n",
        "    try:\n",
        "        _ = PIL.Image.open(img_path)\n",
        "    except PIL.UnidentifiedImageError:\n",
        "    #print(f'{img_path} is an invalid image')\n",
        "        os.remove(img_path)"
      ],
      "execution_count": 14,
      "outputs": []
    },
    {
      "cell_type": "code",
      "metadata": {
        "id": "a0lwC7uj1kQD",
        "colab_type": "code",
        "colab": {
          "base_uri": "https://localhost:8080/",
          "height": 36
        },
        "outputId": "b7f963ca-afbd-4e2f-98cd-523536c12d09"
      },
      "source": [
        "!ls"
      ],
      "execution_count": 15,
      "outputs": [
        {
          "output_type": "stream",
          "text": [
            "cropped  drive\tsample_data\n"
          ],
          "name": "stdout"
        }
      ]
    },
    {
      "cell_type": "code",
      "metadata": {
        "id": "UJT9ELYb13Xl",
        "colab_type": "code",
        "colab": {}
      },
      "source": [
        "os.rename('/content/cropped','/content/clean_images')"
      ],
      "execution_count": 16,
      "outputs": []
    },
    {
      "cell_type": "code",
      "metadata": {
        "id": "JkBblF3G2EEt",
        "colab_type": "code",
        "colab": {
          "base_uri": "https://localhost:8080/",
          "height": 36
        },
        "outputId": "ee74077f-f6ee-4f96-8fe0-dde5cc237d80"
      },
      "source": [
        "!ls"
      ],
      "execution_count": 17,
      "outputs": [
        {
          "output_type": "stream",
          "text": [
            "clean_images  drive  sample_data\n"
          ],
          "name": "stdout"
        }
      ]
    },
    {
      "cell_type": "code",
      "metadata": {
        "id": "2OctRF5X2Ejz",
        "colab_type": "code",
        "colab": {
          "base_uri": "https://localhost:8080/",
          "height": 36
        },
        "outputId": "58a7ec28-c064-4700-997b-4813f8e88749"
      },
      "source": [
        "!zip clean_images /content/clean_images"
      ],
      "execution_count": 19,
      "outputs": [
        {
          "output_type": "stream",
          "text": [
            "  adding: content/clean_images/ (stored 0%)\n"
          ],
          "name": "stdout"
        }
      ]
    },
    {
      "cell_type": "code",
      "metadata": {
        "id": "fZZ9McPT2IVc",
        "colab_type": "code",
        "colab": {
          "base_uri": "https://localhost:8080/",
          "height": 36
        },
        "outputId": "fc0c0ffb-8b49-4528-8c29-4188e3143204"
      },
      "source": [
        "!ls"
      ],
      "execution_count": 20,
      "outputs": [
        {
          "output_type": "stream",
          "text": [
            "clean_images  clean_images.zip\tdrive  sample_data\n"
          ],
          "name": "stdout"
        }
      ]
    },
    {
      "cell_type": "code",
      "metadata": {
        "id": "qU9MJIkU3onA",
        "colab_type": "code",
        "colab": {}
      },
      "source": [
        "import shutil"
      ],
      "execution_count": 24,
      "outputs": []
    },
    {
      "cell_type": "code",
      "metadata": {
        "id": "KMdj7x734TYq",
        "colab_type": "code",
        "colab": {
          "base_uri": "https://localhost:8080/",
          "height": 36
        },
        "outputId": "02298ede-d5e6-45a3-a82f-0f7c72236188"
      },
      "source": [
        "shutil.move('/content/clean_images.zip', '/content/drive/My Drive/AnimeGANs/clean_images.zip')"
      ],
      "execution_count": 25,
      "outputs": [
        {
          "output_type": "execute_result",
          "data": {
            "application/vnd.google.colaboratory.intrinsic+json": {
              "type": "string"
            },
            "text/plain": [
              "'/content/drive/My Drive/AnimeGANs/clean_images.zip'"
            ]
          },
          "metadata": {
            "tags": []
          },
          "execution_count": 25
        }
      ]
    }
  ]
}